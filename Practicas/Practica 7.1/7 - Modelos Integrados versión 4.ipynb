{
 "cells": [
  {
   "cell_type": "code",
   "execution_count": null,
   "metadata": {},
   "outputs": [],
   "source": [
    "# Execute if necessary\n",
    "# %%capture\n",
    "# !pip install pandas"
   ]
  },
  {
   "cell_type": "code",
   "execution_count": 7,
   "metadata": {},
   "outputs": [],
   "source": [
    "import pandas as pd\n",
    "import pandas as pd\n",
    "import numpy as np\n",
    "import matplotlib.pyplot as plt\n",
    "from statsmodels.tsa.statespace.sarimax import SARIMAX\n",
    "from statsmodels.graphics.tsaplots import plot_acf, plot_pacf\n",
    "from sklearn.metrics import mean_squared_error"
   ]
  },
  {
   "cell_type": "markdown",
   "metadata": {},
   "source": [
    "# Práctica 7: Modelos Integrados (ARIMA y SARIMA)"
   ]
  },
  {
   "cell_type": "markdown",
   "metadata": {},
   "source": [
    "__Instrucciones__: A continuación hay una lista de funciones que debe implementar o tareas que debe desarrollar. La descripción de cada una de ellas se encuentra en la definición de cada una de las funciones.\n",
    "\n",
    "La entrega de la práctica será en la siguiente sesión a menos que la indicación sea otra. La revisión iniciará al iniciar la sesión y únicamente podrá ser evaluada durante la duración de la sesión."
   ]
  },
  {
   "cell_type": "markdown",
   "metadata": {},
   "source": [
    "__Para esta práctica se deben usar bibliotecas__. Se recomienda el uso de:\n",
    "\n",
    "- scikit-learn (https://scikit-learn.org/stable/)\n",
    "- plotly express (https://plotly.com/python/plotly-express/)\n",
    "- statsmodels (https://www.statsmodels.org/stable/index.html)."
   ]
  },
  {
   "cell_type": "markdown",
   "metadata": {},
   "source": [
    "## Asignación 1\n",
    "\n",
    "Seleccione algun dataset de su preferencia que sea relacionado a series de tiempo. Particione sus datos para poder evaluar el desempeño de su práctica (__conjunto de test__)."
   ]
  },
  {
   "cell_type": "code",
   "execution_count": null,
   "metadata": {},
   "outputs": [],
   "source": [
    "#importar csv kalimati_tarkari_dataset.csv y visualizarlo\n",
    "import pandas as pd\n",
    "import matplotlib.pyplot as plt\n",
    "#importar plotly express\n",
    "import plotly.express as px\n",
    "import numpy as np\n",
    "\n",
    "df = pd.read_csv('kalimati_tarkari_dataset.csv')\n",
    "df.head()"
   ]
  },
  {
   "cell_type": "code",
   "execution_count": null,
   "metadata": {},
   "outputs": [],
   "source": [
    "#Seleccionar en la columna Commodity las entradas con el valor 'Potato White' y visualizarlo\n",
    "df = df[df['Commodity'] == 'Onion Dry (Indian)']\n",
    "df.head(20)"
   ]
  },
  {
   "cell_type": "markdown",
   "metadata": {},
   "source": [
    "## Asignación 2\n",
    "\n",
    "Realice un análisis exploratorio de datos y el preprocesamiento necesario para el dataset seleccionado. El análisis realizado debe respaldar (preferentemente mediante el uso de gráficas) las decisiones que tome para la siguiente asignación."
   ]
  },
  {
   "cell_type": "code",
   "execution_count": null,
   "metadata": {},
   "outputs": [],
   "source": [
    "#Seleccionar las columnas Date, Average y visualizarlo\n",
    "df_med = df[['Date', 'Average']]\n",
    "df_low = df[['Date', 'Minimum']]\n",
    "df_high = df[['Date', 'Maximum']]\n",
    "\n",
    "\n",
    "df_med.head()\n",
    "\n",
    "#graficar con plotly-express los 3 dataframes df_med, df_low y df_high \n",
    "fig = px.line(df_med, x='Date', y='Average', title='Average')\n",
    "fig.show()"
   ]
  },
  {
   "cell_type": "code",
   "execution_count": null,
   "metadata": {},
   "outputs": [],
   "source": [
    "df_med.head()"
   ]
  },
  {
   "cell_type": "code",
   "execution_count": null,
   "metadata": {},
   "outputs": [],
   "source": [
    "#dividir el dataframe df_med en 2 dataframes: df_train y df_test en 80% y 20% respectivamente\n",
    "\n",
    "X = df_med.iloc[:, :-1].values\n",
    "y = df_med.iloc[:, 1].values\n",
    "\n",
    "from sklearn.model_selection import train_test_split\n",
    "X_train, X_test, y_train, y_test = train_test_split(X, y)"
   ]
  },
  {
   "cell_type": "markdown",
   "metadata": {},
   "source": [
    "## Asignación 3\n",
    "\n",
    "Ajuste un modelo ARMA, ARIMA o SARIMA segun sea conveniente para sus datos."
   ]
  },
  {
   "cell_type": "markdown",
   "metadata": {},
   "source": [
    "Para poder evaluar que modelo nos conviene más optamos por seguir los siguientes pasos: \n",
    "\n",
    "Aquí hay algunos pasos que puedes seguir para evaluar qué modelo es más apropiado:\n",
    "\n",
    "- __Visualización de datos:__ Comienza por trazar la serie temporal de los datos que tienes, es decir, los valores promedio en función de la fecha. Esto te permitirá observar cualquier patrón evidente, tendencia o estacionalidad.\n",
    "\n",
    "- __Estacionariedad:__ Evalúa si la serie temporal es estacionaria. Una serie estacionaria es aquella cuyas propiedades estadísticas (como media y varianza) son constantes en el tiempo. Puedes utilizar métodos como la prueba de Dickey-Fuller aumentada (ADF) para verificar la estacionariedad.\n",
    "\n",
    "\n",
    "- __Autocorrelación:__ Examina la autocorrelación de la serie temporal. La autocorrelación es la relación entre los valores pasados y futuros en una serie temporal. Puedes utilizar la función de autocorrelación (ACF) y la función de autocorrelación parcial (PACF) para evaluar la correlación en diferentes rezagos.\n",
    "Componentes estacionales: Si observas patrones estacionales en los datos, como fluctuaciones regulares que se repiten, puedes considerar modelos como SARIMA que incorporan componentes estacionales."
   ]
  },
  {
   "cell_type": "markdown",
   "metadata": {},
   "source": [
    "### 1.- Visualizacion de datos\n",
    "\n",
    "Visualizando la anterior grafica podemos observar que existe un patrón de fechas en finales de año"
   ]
  },
  {
   "cell_type": "markdown",
   "metadata": {},
   "source": [
    "### 2.- Estacionariedad"
   ]
  },
  {
   "cell_type": "markdown",
   "metadata": {},
   "source": [
    "adfuller es una función que realiza la prueba \"Dickey-Fuller aumentada\" para determinar si una serie temporal es estacionaria o no.\n",
    "Es comúnmente utilizada para evaluar la presencia de raíces unitarias, lo que implica que la serie no es estacionaria.\n",
    "\n",
    "La función adfuller calcula el estadistico de prueba de \"Dickey-Fuller aumentada\" y proporciona varios resultados importantes, incluyendo el valor del estadístico de prueba, el valor de p y los valores críticos para diferentes niveles de significancia. Estos resultados se utilizan para tomar decisiones sobre la estacionariedad de la serie temporal\n",
    "\n",
    "p = es una medida que indica la evidencia en contra de la hipótesis nula.\n",
    "En la prueba ADF, la hipótesis nula es que la serie temporal contiene una raíz unitaria, lo que implica que la serie no es estacionaria. La hipótesis alternativa es que la serie no contiene una raíz unitaria y, por lo tanto, es estacionaria.\n",
    "\n",
    "El valor p calculado en la prueba ADF representa la probabilidad de obtener un valor del estadístico de prueba igual o más extremo que el observado, asumiendo que la hipótesis nula es verdadera. Si el valor p es menor que un umbral de significancia predefinido (por ejemplo, 0.05), se considera que hay evidencia suficiente para rechazar la hipótesis nula en favor de la hipótesis alternativa.\n",
    "\n",
    "En resumen, un valor p bajo (p < umbral de significancia) sugiere que hay evidencia para rechazar la hipótesis nula y concluir que la serie temporal es estacionaria. Por otro lado, un valor p alto (p > umbral de significancia) sugiere que no hay suficiente evidencia para rechazar la hipótesis nula y se concluye que la serie no es estacionaria.\n",
    "\n",
    "Es importante destacar que el umbral de significancia elegido es una decisión subjetiva y depende del contexto y los requisitos del análisis."
   ]
  },
  {
   "cell_type": "code",
   "execution_count": null,
   "metadata": {},
   "outputs": [],
   "source": [
    "from statsmodels.tsa.stattools import adfuller\n",
    "\n",
    "# Extrae la columna de interés (Average en este caso)\n",
    "average_data = df_med['Average']\n",
    "\n",
    "# Aplica la prueba Dickey-Fuller aumentada\n",
    "result = adfuller(average_data)\n",
    "\n",
    "# Extrae los valores de la prueba y los p-valores\n",
    "adf_statistic = result[0]\n",
    "p_value = result[1]\n",
    "critical_values = result[4]\n",
    "\n",
    "# Imprime los resultados\n",
    "print(f'Estadístico ADF: {adf_statistic}')\n",
    "print(f'p-valor: {p_value}')\n",
    "print('Valores críticos:')\n",
    "for key, value in critical_values.items():\n",
    "    print(f'   {key}: {value}')"
   ]
  },
  {
   "cell_type": "markdown",
   "metadata": {},
   "source": [
    "Si el p-valor es menor que un umbral de significancia (por ejemplo, 0.05), se puede inferir que la serie temporal es estacionaria. Además, si el estadístico ADF es menor que los valores críticos correspondientes, también sugiere estacionariedad.\n",
    "\n",
    "Por lo que en este caso observamos que existe __ESTACIONARIDAD__"
   ]
  },
  {
   "cell_type": "markdown",
   "metadata": {},
   "source": [
    "### 3.-Autocorrelacion\n",
    "\n"
   ]
  },
  {
   "cell_type": "markdown",
   "metadata": {},
   "source": [
    "La función tsaplots en statsmodels.graphics de Python proporciona varias tramas (plots) para el análisis y visualización de series de tiempo. Esta función se utiliza en combinación con otros módulos y funciones de statsmodels para crear gráficos relacionados con el análisis de series temporales."
   ]
  },
  {
   "cell_type": "code",
   "execution_count": null,
   "metadata": {},
   "outputs": [],
   "source": [
    "import matplotlib.pyplot as plt\n",
    "import statsmodels.api as sm\n",
    "from statsmodels.graphics import tsaplots\n",
    "\n",
    "# Calcular autocorrelaciones\n",
    "acf_values = sm.tsa.acf(df_med['Average'], nlags=20)\n",
    "pacf_values = sm.tsa.pacf(df_med['Average'], nlags=20)\n",
    "\n",
    "# Crear figura y ejes\n",
    "fig, ax = plt.subplots(figsize=(12, 4))\n",
    "\n",
    "# Graficar función de autocorrelación (ACF)\n",
    "tsaplots.plot_acf(df_med['Average'], lags=1000, ax=ax) \n",
    "\"\"\" La ACF muestra la correlación entre los valores pasados de la serie en función del retraso. \n",
    "Ayuda a identificar patrones de dependencia en la serie.\"\"\"\n",
    "\n",
    "# Graficar función de autocorrelación parcial (PACF)\n",
    "tsaplots.plot_pacf(df_med['Average'], lags=1000, ax=ax) \n",
    "\"\"\"La PACF muestra la correlación entre los valores pasados de la serie después\n",
    "de eliminar las correlaciones explicadas por los retrasos más cortos. \n",
    "Ayuda a identificar la contribución específica de cada retraso en la serie.\"\"\"\n",
    "\n",
    "# Configurar etiquetas y título\n",
    "plt.xlabel('Lag')\n",
    "plt.ylabel('Correlation')\n",
    "plt.title('Autocorrelation and Partial Autocorrelation')\n",
    "\n",
    "# Mostrar el gráfico\n",
    "plt.show()\n"
   ]
  },
  {
   "cell_type": "markdown",
   "metadata": {},
   "source": [
    "- Modelos ARIMA y SARIMA: Si la serie es estacionaria y no muestra patrones estacionales evidentes, puedes considerar modelos ARIMA. Un modelo ARIMA es adecuado cuando hay una dependencia de los valores pasados y diferencias en los datos para hacerlos estacionarios. Si hay componentes estacionales, puedes considerar modelos SARIMA que extienden ARIMA para manejar la estacionalidad.\n",
    "\n",
    "- Modelo ARMA: Si no hay necesidad de diferenciar los datos para hacerlos estacionarios y no hay patrones estacionales, un modelo ARMA puede ser apropiado. El modelo ARMA combina los componentes autorregresivos (AR) y de media móvil (MA) para modelar la dependencia y la estructura de ruido en la serie temporal."
   ]
  },
  {
   "cell_type": "code",
   "execution_count": null,
   "metadata": {},
   "outputs": [],
   "source": [
    "df_med"
   ]
  },
  {
   "cell_type": "code",
   "execution_count": null,
   "metadata": {},
   "outputs": [],
   "source": [
    "df_med = df[['Date', 'Average']]"
   ]
  },
  {
   "cell_type": "code",
   "execution_count": null,
   "metadata": {},
   "outputs": [],
   "source": [
    "import pandas as pd\n",
    "from statsmodels.tsa.statespace.sarimax import SARIMAX\n",
    "from matplotlib import pyplot as plt\n",
    "import itertools\n",
    "\n",
    "\n",
    "df_med = df[['Date', 'Average']]\n",
    "\n",
    "# Convertimos la columna 'Date' a formato de fecha\n",
    "df_med['Date'] = pd.to_datetime(df_med['Date'])\n",
    "\n",
    "# Fijamos 'Date' como el índice de nuestro DataFrame\n",
    "df_med.set_index('Date', inplace=True)\n",
    "\n",
    "\n",
    "\n",
    "# Definimos el rango p, d, q y P, D, Q, S para probar\n",
    "p = d = q = range(0, 2)\n",
    "pdq = list(itertools.product(p, d, q))\n",
    "seasonal_pdq = [(x[0], x[1], x[2], 12) for x in pdq]\n",
    "\n",
    "# Buscamos la mejor combinación de parámetros\n",
    "best_aic = np.inf\n",
    "best_pdq = None\n",
    "best_seasonal_pdq = None\n",
    "tmp_model = None\n",
    "best_mdl = None\n",
    "\n",
    "for param in pdq:\n",
    "    for param_seasonal in seasonal_pdq:\n",
    "        try:\n",
    "            tmp_mdl = SARIMAX(df['Average'],\n",
    "                              order = param,\n",
    "                              seasonal_order = param_seasonal,\n",
    "                              enforce_stationarity=True,\n",
    "                              enforce_invertibility=True)\n",
    "            res = tmp_mdl.fit()\n",
    "\n",
    "            if res.aic < best_aic:\n",
    "                best_aic = res.aic\n",
    "                best_pdq = param\n",
    "                best_seasonal_pdq = param_seasonal\n",
    "                best_mdl = tmp_mdl\n",
    "        except:\n",
    "            continue\n",
    "\n",
    "print(\"Mejor Modelo SARIMA({}, {}) - AIC:{}\".format(best_pdq, best_seasonal_pdq, best_aic))\n"
   ]
  },
  {
   "cell_type": "markdown",
   "metadata": {},
   "source": [
    "### Mejor Modelo SARIMA((1, 1, 0), (0, 0, 0, 12)) - AIC:14709.674071706238"
   ]
  },
  {
   "cell_type": "markdown",
   "metadata": {},
   "source": [
    "AIC = Akaike's Information Criterion, es un criterio de información utilizado para seleccionar el mejor modelo entre varios candidatos, es una medida de la calidad del ajuste del modelo y penaliza la complejidad del modelo\n",
    "\n",
    "AIC se calcula utilizando la fórmula:\n",
    "\n",
    "AIC = $$-2 * log - likehood + 2 * p $$ \n",
    "\n",
    "Donde: \n",
    "- log-likehood: Es una medida de la calidad del ajuste del modelo a los datos observados. Cuanto más cercano a cero, mejor es el ajuste.\n",
    "- p: Número de parámetros en el modelo\n",
    "\n",
    "En resumen: El AIC se utiliza como una métrica para comparar diferentes modelos SARIMA y seleccionar el AIC más bajo como el modelo preferido"
   ]
  },
  {
   "cell_type": "code",
   "execution_count": null,
   "metadata": {},
   "outputs": [],
   "source": [
    "# Ajustamos el modelo SARIMA\n",
    "#Mejor Modelo SARIMA((1, 1, 0), (0, 0, 0, 12)) - AIC:14709.674071706238\n",
    "\n",
    "model = SARIMAX(df_med['Average'], order=(1, 1, 0), seasonal_order=(0, 0, 0, 12))\n"
   ]
  },
  {
   "cell_type": "code",
   "execution_count": null,
   "metadata": {},
   "outputs": [],
   "source": [
    "df.head()"
   ]
  },
  {
   "cell_type": "code",
   "execution_count": null,
   "metadata": {},
   "outputs": [],
   "source": [
    "#Seleccionar en la columna Commodity las entradas con el valor 'Potato White' y visualizarlo\n",
    "df = df[df['Commodity'] == 'Onion Dry (Indian)']\n",
    "df.head(20)"
   ]
  },
  {
   "cell_type": "markdown",
   "metadata": {},
   "source": [
    "## Asignación 4\n",
    "\n",
    "Realice un diagnostico de su modelo para verificar que es correcto."
   ]
  },
  {
   "cell_type": "markdown",
   "metadata": {},
   "source": []
  },
  {
   "cell_type": "code",
   "execution_count": null,
   "metadata": {},
   "outputs": [],
   "source": [
    "from statsmodels.graphics.tsaplots import plot_acf, plot_pacf\n",
    "from statsmodels.stats.diagnostic import acorr_ljungbox\n",
    "\n",
    "model_fit = model.fit(disp=False)\n",
    "\"\"\" Ajuste el modelo SARIMA utilizando .fit() y asigna el\n",
    "    resultado a la variable model_fit. El argumento disp = False \n",
    "    se utiliza para desactivar la visualización de información\n",
    "    adicional durante el ajuste del modelo\"\"\"\n",
    "\n",
    "# Diagnóstico del modelo\n",
    "residuals = model_fit.resid # Calculo de los residuos del modelo ajustado y los asigna a la variable residuals\n",
    "\n",
    "\n",
    "# Gráfico de autocorrelación de los residuos\n",
    "fig, ax = plt.subplots(figsize=(8, 4))\n",
    "plot_acf(residuals, ax=ax)\n",
    "plt.xlabel('Retraso')\n",
    "plt.ylabel('Autocorrelación')\n",
    "plt.title('Gráfico de Autocorrelación de los Residuos')\n",
    "plt.show()\n",
    "\n",
    "# Gráfico de autocorrelación parcial de los residuos\n",
    "fig, ax = plt.subplots(figsize=(8, 4))\n",
    "plot_pacf(residuals, ax=ax)\n",
    "plt.xlabel('Retraso')\n",
    "plt.ylabel('Autocorrelación Parcial')\n",
    "plt.title('Gráfico de Autocorrelación Parcial de los Residuos')\n",
    "plt.show()"
   ]
  },
  {
   "cell_type": "markdown",
   "metadata": {},
   "source": [
    "## Asignación 5\n",
    "\n",
    "Obtenga el forecast para los datos de test, grafique los valores reales y las predicciones en conjunto. Obtenga el error de regresión para los datos de test."
   ]
  },
  {
   "cell_type": "code",
   "execution_count": null,
   "metadata": {},
   "outputs": [],
   "source": [
    "############### AUN NO ESTÁ BIEN ################\n",
    "# Restablecer el índice de los datos de prueba\n",
    "test_data = test_data.reset_index(drop=True)\n",
    "\n",
    "# Crear un nuevo DataFrame con las fechas correspondientes a los datos de prueba\n",
    "forecast_dates = pd.date_range(start=test_data.index[0], periods=len(predictions), freq='D')\n",
    "forecast = pd.DataFrame({'Date': forecast_dates, 'Forecast': predictions})\n",
    "\n",
    "# Graficar los valores reales y las predicciones\n",
    "plt.figure(figsize=(10, 6))\n",
    "plt.plot(test_data['Date'], test_data['Average'], label='Valores reales')\n",
    "plt.plot(forecast['Date'], forecast['Forecast'], label='Predicciones')\n",
    "plt.xlabel('Fecha')\n",
    "plt.ylabel('Valor')\n",
    "plt.title('Valores reales vs. Predicciones')\n",
    "plt.legend()\n",
    "plt.show()\n",
    "\n",
    "# Calcular el error de regresión\n",
    "mse = mean_squared_error(test_data['Average'], predictions)\n",
    "rmse = np.sqrt(mse)\n",
    "print('Error de regresión (RMSE):', rmse)\n"
   ]
  },
  {
   "cell_type": "code",
   "execution_count": null,
   "metadata": {},
   "outputs": [],
   "source": [
    "\n",
    "test_data = test_data.reset_index(drop=True)\n",
    "\"\"\" Establece el índice de los datos de prueba a un \n",
    "    índice numérico continuo, lo que permitirá que el pronóstico\n",
    "    se realice correctamente.\"\"\""
   ]
  },
  {
   "cell_type": "code",
   "execution_count": null,
   "metadata": {},
   "outputs": [],
   "source": [
    "############### AUN NO ESTÁ BIEN ################ # ME SALE ERROR EN EL INDICE #####\n",
    "# Obtener el pronóstico para los datos de prueba\n",
    "forecast = model_fit.get_forecast(steps=len(test_data))\n",
    "\"\"\" Se utiliza el método get_forecast() del modelo ajustado\n",
    "    anteriormente (model_fit) para obtener el pronóstico \n",
    "    para los datos de prueba. El argumento 'steps' se establece\n",
    "    en la longitud de los datos de prueba para obtener el \n",
    "    pronóstico para ese número de pasos hacia adelante\"\"\"\n",
    "\n",
    "# Obtener los valores pronosticados y los intervalos de confianza\n",
    "predicted_values = forecast.predicted_mean\n",
    "confidence_interval = forecast.conf_int()\n",
    "\n",
    "\"\"\" Se extraen los valores pronosticados utilizando el atributo\n",
    "    predict_mean del objeto forecast. Además, obtenemos los intervalos\n",
    "    de confianza utilizando el método conf_int del objeto forecast, \n",
    "    que devuelva una matriz de forma (n_steps,2) que contiene los\n",
    "    límites inferior y superior del intervalo de confianza para cada paso\n",
    "    pronosticado\"\"\"\n",
    "\n",
    "# Crear un rango de fechas para los datos de prueba\n",
    "dates = pd.date_range(start=test_data.index[0], periods=len(test_data))\n",
    "\"\"\" Se crea un rango de fehcas utilizando la función pd.date_range().\n",
    "    Especificamos el inicio como la primera fecha de los datos de prueba\n",
    "    (test_data.index[0]) y el número de períodos igual a la longitud de \n",
    "    los datos de prueba (len(test_data)). Esto nos dará un rango de fechas \n",
    "    correspondiente a los datos de prueba\"\"\"\n",
    "\n",
    "# Graficar los valores reales y las predicciones\n",
    "plt.figure(figsize=(10, 6))\n",
    "plt.plot(dates, test_data, label='Valores Reales')\n",
    "plt.plot(dates, predicted_values, label='Predicciones')\n",
    "plt.fill_between(dates, confidence_interval[:, 0], confidence_interval[:, 1], alpha=0.3)\n",
    "plt.xlabel('Fecha')\n",
    "plt.ylabel('Valor')\n",
    "plt.title('Valores Reales vs Predicciones')\n",
    "plt.legend(loc='best')\n",
    "plt.show()\n",
    "\n",
    "# Calcular el error de regresión (RMSE)\n",
    "mse = mean_squared_error(test_data, predicted_values)\n",
    "rmse = np.sqrt(mse)\n",
    "print(f'Error de Regresión (RMSE): {rmse}')\n",
    "\"\"\" Se calcula el error de regresión utilizando la función\n",
    "    mean_squared_error() de sklearn.metrics. El error cuadratico\n",
    "    medio (MSE) se calcula comparando los valores reales (test_data)\n",
    "    con los valores pronosticados predict_values. Luego, se toma la raíz\n",
    "    cuadrada del MSE para obtener el error de regresión (RMSE). \n",
    "    Finalmente, se imprime el RMSE\"\"\"\n"
   ]
  },
  {
   "cell_type": "markdown",
   "metadata": {},
   "source": [
    "## DEMO"
   ]
  },
  {
   "cell_type": "code",
   "execution_count": 5,
   "metadata": {},
   "outputs": [],
   "source": [
    "def run_sarima_forecast(df_path):\n",
    "    # Leer los datos de un archivo CSV\n",
    "    df = pd.read_csv(df_path)\n",
    "\n",
    "    # Seleccionar la columna de fecha y valor\n",
    "    df['Date'] = pd.to_datetime(df['Date'])\n",
    "    df.set_index('Date', inplace=True)\n",
    "    series = df['Average']\n",
    "\n",
    "    # Dividir los datos en entrenamiento y prueba\n",
    "    train_data = series.iloc[:80]\n",
    "    test_data = series.iloc[80:]\n",
    "\n",
    "    # Crear y ajustar el modelo SARIMA\n",
    "    order = (1, 1, 1)  # Orden de los componentes ARIMA\n",
    "    seasonal_order = (0, 1, 1, 7)  # Orden de los componentes SARIMA\n",
    "    model = SARIMAX(train_data, order=order, seasonal_order=seasonal_order)\n",
    "    model_fit = model.fit(disp=False)\n",
    "\n",
    "    # Diagnóstico del modelo\n",
    "    residuals = model_fit.resid\n",
    "    fig, ax = plt.subplots(figsize=(8, 4))\n",
    "    plot_acf(residuals, ax=ax)\n",
    "    plt.xlabel('Retraso')\n",
    "    plt.ylabel('Autocorrelación')\n",
    "    plt.title('Gráfico de Autocorrelación de los Residuos')\n",
    "    plt.show()\n",
    "\n",
    "    fig, ax = plt.subplots(figsize=(8, 4))\n",
    "    plot_pacf(residuals, ax=ax)\n",
    "    plt.xlabel('Retraso')\n",
    "    plt.ylabel('Autocorrelación Parcial')\n",
    "    plt.title('Gráfico de Autocorrelación Parcial de los Residuos')\n",
    "    plt.show()\n",
    "\n",
    "    # Realizar pronóstico en el conjunto de prueba\n",
    "    test_data = test_data.reset_index(drop=True)\n",
    "    start = len(train_data)\n",
    "    end = len(train_data) + len(test_data) - 1\n",
    "    predictions = model_fit.predict(start=start, end=end)\n",
    "\n",
    "    # Crear DataFrame con las fechas y las predicciones\n",
    "    forecast_dates = pd.date_range(start=test_data.index[-1], periods=len(predictions), freq='D')\n",
    "\n",
    "\n",
    "    forecast = pd.DataFrame({'Date': forecast_dates, 'Forecast': predictions})\n",
    "\n",
    "    # Graficar los valores reales y las predicciones\n",
    "    plt.figure(figsize=(10, 6))\n",
    "    plt.plot(test_data.index, test_data.values, label='Valores reales')\n",
    "    plt.plot(forecast['Date'], forecast['Forecast'], label='Predicciones')\n",
    "    plt.xlabel('Fecha')\n",
    "    plt.ylabel('Valor')\n",
    "    plt.title('Valores reales vs. Predicciones')\n",
    "    plt.legend()\n",
    "    plt.show()\n",
    "\n",
    "    # Calcular el error de regresión\n",
    "    mse = mean_squared_error(test_data.values, predictions)\n",
    "    rmse = np.sqrt(mse)\n",
    "    print('Error de regresión (RMSE):', rmse)\n"
   ]
  },
  {
   "cell_type": "code",
   "execution_count": 6,
   "metadata": {
    "scrolled": false
   },
   "outputs": [
    {
     "name": "stderr",
     "output_type": "stream",
     "text": [
      "C:\\Users\\viane\\anaconda3\\lib\\site-packages\\statsmodels\\tsa\\base\\tsa_model.py:471: ValueWarning: A date index has been provided, but it has no associated frequency information and so will be ignored when e.g. forecasting.\n",
      "  self._init_dates(dates, freq)\n",
      "C:\\Users\\viane\\anaconda3\\lib\\site-packages\\statsmodels\\tsa\\base\\tsa_model.py:471: ValueWarning: A date index has been provided, but it has no associated frequency information and so will be ignored when e.g. forecasting.\n",
      "  self._init_dates(dates, freq)\n",
      "C:\\Users\\viane\\anaconda3\\lib\\site-packages\\statsmodels\\tsa\\statespace\\sarimax.py:1009: UserWarning: Non-invertible starting seasonal moving average Using zeros as starting parameters.\n",
      "  warn('Non-invertible starting seasonal moving average'\n"
     ]
    },
    {
     "data": {
      "image/png": "[encoded data removed]",
      "text/plain": [
       "<Figure size 800x400 with 1 Axes>"
      ]
     },
     "metadata": {},
     "output_type": "display_data"
    },
    {
     "name": "stderr",
     "output_type": "stream",
     "text": [
      "C:\\Users\\viane\\anaconda3\\lib\\site-packages\\statsmodels\\graphics\\tsaplots.py:348: FutureWarning: The default method 'yw' can produce PACF values outside of the [-1,1] interval. After 0.13, the default will change tounadjusted Yule-Walker ('ywm'). You can use this method now by setting method='ywm'.\n",
      "  warnings.warn(\n"
     ]
    },
    {
     "data": {
      "image/png": "[encoded data removed]",
      "text/plain": [
       "<Figure size 800x400 with 1 Axes>"
      ]
     },
     "metadata": {},
     "output_type": "display_data"
    },
    {
     "name": "stderr",
     "output_type": "stream",
     "text": [
      "C:\\Users\\viane\\anaconda3\\lib\\site-packages\\statsmodels\\tsa\\base\\tsa_model.py:834: ValueWarning: No supported index is available. Prediction results will be given with an integer index beginning at `start`.\n",
      "  return get_prediction_index(\n"
     ]
    },
    {
     "ename": "OutOfBoundsDatetime",
     "evalue": "Cannot generate range with start=197080 and periods=197081",
     "output_type": "error",
     "traceback": [
      "\u001b[1;31m---------------------------------------------------------------------------\u001b[0m",
      "\u001b[1;31mOutOfBoundsDatetime\u001b[0m                       Traceback (most recent call last)",
      "Cell \u001b[1;32mIn[6], line 1\u001b[0m\n\u001b[1;32m----> 1\u001b[0m \u001b[43mrun_sarima_forecast\u001b[49m\u001b[43m(\u001b[49m\u001b[38;5;124;43m'\u001b[39;49m\u001b[38;5;124;43mkalimati_tarkari_dataset.csv\u001b[39;49m\u001b[38;5;124;43m'\u001b[39;49m\u001b[43m)\u001b[49m\n",
      "Cell \u001b[1;32mIn[5], line 50\u001b[0m, in \u001b[0;36mrun_sarima_forecast\u001b[1;34m(df_path)\u001b[0m\n\u001b[0;32m     47\u001b[0m predictions \u001b[38;5;241m=\u001b[39m model_fit\u001b[38;5;241m.\u001b[39mpredict(start\u001b[38;5;241m=\u001b[39mstart, end\u001b[38;5;241m=\u001b[39mend)\n\u001b[0;32m     49\u001b[0m \u001b[38;5;66;03m# Crear DataFrame con las fechas y las predicciones\u001b[39;00m\n\u001b[1;32m---> 50\u001b[0m forecast_dates \u001b[38;5;241m=\u001b[39m \u001b[43mpd\u001b[49m\u001b[38;5;241;43m.\u001b[39;49m\u001b[43mdate_range\u001b[49m\u001b[43m(\u001b[49m\u001b[43mstart\u001b[49m\u001b[38;5;241;43m=\u001b[39;49m\u001b[43mtest_data\u001b[49m\u001b[38;5;241;43m.\u001b[39;49m\u001b[43mindex\u001b[49m\u001b[43m[\u001b[49m\u001b[38;5;241;43m-\u001b[39;49m\u001b[38;5;241;43m1\u001b[39;49m\u001b[43m]\u001b[49m\u001b[43m,\u001b[49m\u001b[43m \u001b[49m\u001b[43mperiods\u001b[49m\u001b[38;5;241;43m=\u001b[39;49m\u001b[38;5;28;43mlen\u001b[39;49m\u001b[43m(\u001b[49m\u001b[43mpredictions\u001b[49m\u001b[43m)\u001b[49m\u001b[43m,\u001b[49m\u001b[43m \u001b[49m\u001b[43mfreq\u001b[49m\u001b[38;5;241;43m=\u001b[39;49m\u001b[38;5;124;43m'\u001b[39;49m\u001b[38;5;124;43mD\u001b[39;49m\u001b[38;5;124;43m'\u001b[39;49m\u001b[43m)\u001b[49m\n\u001b[0;32m     53\u001b[0m forecast \u001b[38;5;241m=\u001b[39m pd\u001b[38;5;241m.\u001b[39mDataFrame({\u001b[38;5;124m'\u001b[39m\u001b[38;5;124mDate\u001b[39m\u001b[38;5;124m'\u001b[39m: forecast_dates, \u001b[38;5;124m'\u001b[39m\u001b[38;5;124mForecast\u001b[39m\u001b[38;5;124m'\u001b[39m: predictions})\n\u001b[0;32m     55\u001b[0m \u001b[38;5;66;03m# Graficar los valores reales y las predicciones\u001b[39;00m\n",
      "File \u001b[1;32m~\\anaconda3\\lib\\site-packages\\pandas\\core\\indexes\\datetimes.py:1125\u001b[0m, in \u001b[0;36mdate_range\u001b[1;34m(start, end, periods, freq, tz, normalize, name, closed, inclusive, **kwargs)\u001b[0m\n\u001b[0;32m   1122\u001b[0m \u001b[38;5;28;01mif\u001b[39;00m freq \u001b[38;5;129;01mis\u001b[39;00m \u001b[38;5;28;01mNone\u001b[39;00m \u001b[38;5;129;01mand\u001b[39;00m com\u001b[38;5;241m.\u001b[39many_none(periods, start, end):\n\u001b[0;32m   1123\u001b[0m     freq \u001b[38;5;241m=\u001b[39m \u001b[38;5;124m\"\u001b[39m\u001b[38;5;124mD\u001b[39m\u001b[38;5;124m\"\u001b[39m\n\u001b[1;32m-> 1125\u001b[0m dtarr \u001b[38;5;241m=\u001b[39m DatetimeArray\u001b[38;5;241m.\u001b[39m_generate_range(\n\u001b[0;32m   1126\u001b[0m     start\u001b[38;5;241m=\u001b[39mstart,\n\u001b[0;32m   1127\u001b[0m     end\u001b[38;5;241m=\u001b[39mend,\n\u001b[0;32m   1128\u001b[0m     periods\u001b[38;5;241m=\u001b[39mperiods,\n\u001b[0;32m   1129\u001b[0m     freq\u001b[38;5;241m=\u001b[39mfreq,\n\u001b[0;32m   1130\u001b[0m     tz\u001b[38;5;241m=\u001b[39mtz,\n\u001b[0;32m   1131\u001b[0m     normalize\u001b[38;5;241m=\u001b[39mnormalize,\n\u001b[0;32m   1132\u001b[0m     inclusive\u001b[38;5;241m=\u001b[39minclusive,\n\u001b[0;32m   1133\u001b[0m     \u001b[38;5;241m*\u001b[39m\u001b[38;5;241m*\u001b[39mkwargs,\n\u001b[0;32m   1134\u001b[0m )\n\u001b[0;32m   1135\u001b[0m \u001b[38;5;28;01mreturn\u001b[39;00m DatetimeIndex\u001b[38;5;241m.\u001b[39m_simple_new(dtarr, name\u001b[38;5;241m=\u001b[39mname)\n",
      "File \u001b[1;32m~\\anaconda3\\lib\\site-packages\\pandas\\core\\arrays\\datetimes.py:394\u001b[0m, in \u001b[0;36mDatetimeArray._generate_range\u001b[1;34m(cls, start, end, periods, freq, tz, normalize, ambiguous, nonexistent, inclusive)\u001b[0m\n\u001b[0;32m    391\u001b[0m         end \u001b[38;5;241m=\u001b[39m end\u001b[38;5;241m.\u001b[39mtz_localize(\u001b[38;5;28;01mNone\u001b[39;00m)\n\u001b[0;32m    393\u001b[0m \u001b[38;5;28;01mif\u001b[39;00m \u001b[38;5;28misinstance\u001b[39m(freq, Tick):\n\u001b[1;32m--> 394\u001b[0m     i8values \u001b[38;5;241m=\u001b[39m \u001b[43mgenerate_regular_range\u001b[49m\u001b[43m(\u001b[49m\u001b[43mstart\u001b[49m\u001b[43m,\u001b[49m\u001b[43m \u001b[49m\u001b[43mend\u001b[49m\u001b[43m,\u001b[49m\u001b[43m \u001b[49m\u001b[43mperiods\u001b[49m\u001b[43m,\u001b[49m\u001b[43m \u001b[49m\u001b[43mfreq\u001b[49m\u001b[43m)\u001b[49m\n\u001b[0;32m    395\u001b[0m \u001b[38;5;28;01melse\u001b[39;00m:\n\u001b[0;32m    396\u001b[0m     xdr \u001b[38;5;241m=\u001b[39m generate_range(start\u001b[38;5;241m=\u001b[39mstart, end\u001b[38;5;241m=\u001b[39mend, periods\u001b[38;5;241m=\u001b[39mperiods, offset\u001b[38;5;241m=\u001b[39mfreq)\n",
      "File \u001b[1;32m~\\anaconda3\\lib\\site-packages\\pandas\\core\\arrays\\_ranges.py:56\u001b[0m, in \u001b[0;36mgenerate_regular_range\u001b[1;34m(start, end, periods, freq)\u001b[0m\n\u001b[0;32m     54\u001b[0m \u001b[38;5;28;01melif\u001b[39;00m istart \u001b[38;5;129;01mis\u001b[39;00m \u001b[38;5;129;01mnot\u001b[39;00m \u001b[38;5;28;01mNone\u001b[39;00m \u001b[38;5;129;01mand\u001b[39;00m periods \u001b[38;5;129;01mis\u001b[39;00m \u001b[38;5;129;01mnot\u001b[39;00m \u001b[38;5;28;01mNone\u001b[39;00m:\n\u001b[0;32m     55\u001b[0m     b \u001b[38;5;241m=\u001b[39m istart\n\u001b[1;32m---> 56\u001b[0m     e \u001b[38;5;241m=\u001b[39m \u001b[43m_generate_range_overflow_safe\u001b[49m\u001b[43m(\u001b[49m\u001b[43mb\u001b[49m\u001b[43m,\u001b[49m\u001b[43m \u001b[49m\u001b[43mperiods\u001b[49m\u001b[43m,\u001b[49m\u001b[43m \u001b[49m\u001b[43mstride\u001b[49m\u001b[43m,\u001b[49m\u001b[43m \u001b[49m\u001b[43mside\u001b[49m\u001b[38;5;241;43m=\u001b[39;49m\u001b[38;5;124;43m\"\u001b[39;49m\u001b[38;5;124;43mstart\u001b[39;49m\u001b[38;5;124;43m\"\u001b[39;49m\u001b[43m)\u001b[49m\n\u001b[0;32m     57\u001b[0m \u001b[38;5;28;01melif\u001b[39;00m iend \u001b[38;5;129;01mis\u001b[39;00m \u001b[38;5;129;01mnot\u001b[39;00m \u001b[38;5;28;01mNone\u001b[39;00m \u001b[38;5;129;01mand\u001b[39;00m periods \u001b[38;5;129;01mis\u001b[39;00m \u001b[38;5;129;01mnot\u001b[39;00m \u001b[38;5;28;01mNone\u001b[39;00m:\n\u001b[0;32m     58\u001b[0m     e \u001b[38;5;241m=\u001b[39m iend \u001b[38;5;241m+\u001b[39m stride\n",
      "File \u001b[1;32m~\\anaconda3\\lib\\site-packages\\pandas\\core\\arrays\\_ranges.py:127\u001b[0m, in \u001b[0;36m_generate_range_overflow_safe\u001b[1;34m(endpoint, periods, stride, side)\u001b[0m\n\u001b[0;32m    121\u001b[0m     \u001b[38;5;28;01mreturn\u001b[39;00m _generate_range_overflow_safe_signed(endpoint, periods, stride, side)\n\u001b[0;32m    123\u001b[0m \u001b[38;5;28;01melif\u001b[39;00m (endpoint \u001b[38;5;241m>\u001b[39m \u001b[38;5;241m0\u001b[39m \u001b[38;5;129;01mand\u001b[39;00m side \u001b[38;5;241m==\u001b[39m \u001b[38;5;124m\"\u001b[39m\u001b[38;5;124mstart\u001b[39m\u001b[38;5;124m\"\u001b[39m \u001b[38;5;129;01mand\u001b[39;00m stride \u001b[38;5;241m>\u001b[39m \u001b[38;5;241m0\u001b[39m) \u001b[38;5;129;01mor\u001b[39;00m (\n\u001b[0;32m    124\u001b[0m     endpoint \u001b[38;5;241m<\u001b[39m \u001b[38;5;241m0\u001b[39m \u001b[38;5;129;01mand\u001b[39;00m side \u001b[38;5;241m==\u001b[39m \u001b[38;5;124m\"\u001b[39m\u001b[38;5;124mend\u001b[39m\u001b[38;5;124m\"\u001b[39m \u001b[38;5;129;01mand\u001b[39;00m stride \u001b[38;5;241m>\u001b[39m \u001b[38;5;241m0\u001b[39m\n\u001b[0;32m    125\u001b[0m ):\n\u001b[0;32m    126\u001b[0m     \u001b[38;5;66;03m# no chance of not-overflowing\u001b[39;00m\n\u001b[1;32m--> 127\u001b[0m     \u001b[38;5;28;01mraise\u001b[39;00m OutOfBoundsDatetime(msg)\n\u001b[0;32m    129\u001b[0m \u001b[38;5;28;01melif\u001b[39;00m side \u001b[38;5;241m==\u001b[39m \u001b[38;5;124m\"\u001b[39m\u001b[38;5;124mend\u001b[39m\u001b[38;5;124m\"\u001b[39m \u001b[38;5;129;01mand\u001b[39;00m endpoint \u001b[38;5;241m>\u001b[39m i64max \u001b[38;5;129;01mand\u001b[39;00m endpoint \u001b[38;5;241m-\u001b[39m stride \u001b[38;5;241m<\u001b[39m\u001b[38;5;241m=\u001b[39m i64max:\n\u001b[0;32m    130\u001b[0m     \u001b[38;5;66;03m# in _generate_regular_range we added `stride` thereby overflowing\u001b[39;00m\n\u001b[0;32m    131\u001b[0m     \u001b[38;5;66;03m#  the bounds.  Adjust to fix this.\u001b[39;00m\n\u001b[0;32m    132\u001b[0m     \u001b[38;5;28;01mreturn\u001b[39;00m _generate_range_overflow_safe(\n\u001b[0;32m    133\u001b[0m         endpoint \u001b[38;5;241m-\u001b[39m stride, periods \u001b[38;5;241m-\u001b[39m \u001b[38;5;241m1\u001b[39m, stride, side\n\u001b[0;32m    134\u001b[0m     )\n",
      "\u001b[1;31mOutOfBoundsDatetime\u001b[0m: Cannot generate range with start=197080 and periods=197081"
     ]
    }
   ],
   "source": [
    "run_sarima_forecast('kalimati_tarkari_dataset.csv')"
   ]
  },
  {
   "cell_type": "code",
   "execution_count": null,
   "metadata": {},
   "outputs": [],
   "source": []
  }
 ],
 "metadata": {
  "kernelspec": {
   "display_name": "Python 3 (ipykernel)",
   "language": "python",
   "name": "python3"
  },
  "language_info": {
   "codemirror_mode": {
    "name": "ipython",
    "version": 3
   },
   "file_extension": ".py",
   "mimetype": "text/x-python",
   "name": "python",
   "nbconvert_exporter": "python",
   "pygments_lexer": "ipython3",
   "version": "3.10.9"
  }
 },
 "nbformat": 4,
 "nbformat_minor": 4
}
